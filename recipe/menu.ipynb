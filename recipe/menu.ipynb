{
 "cells": [
  {
   "cell_type": "code",
   "execution_count": 57,
   "metadata": {
    "collapsed": true
   },
   "outputs": [],
   "source": [
    "import pandas as pd\n",
    "import smtplib\n",
    "import random"
   ]
  },
  {
   "cell_type": "code",
   "execution_count": 30,
   "metadata": {
    "collapsed": true
   },
   "outputs": [],
   "source": [
    "days = {0:\"Sunday\", 1:\"Monday\", 2:\"Tuesday\", 3:\"Wendsday\", 4:\"Thursday\", 5:\"Friday\", 6:\"Saturday\"}"
   ]
  },
  {
   "cell_type": "code",
   "execution_count": null,
   "metadata": {
    "collapsed": true
   },
   "outputs": [],
   "source": []
  },
  {
   "cell_type": "code",
   "execution_count": 103,
   "metadata": {},
   "outputs": [
    {
     "name": "stdout",
     "output_type": "stream",
     "text": [
      "past0\n",
      "past1\n",
      "(250, b'fed1rmimpo305.cox.net hello [68.111.67.198], pleased to meet you\\nHELP\\nAUTH LOGIN PLAIN\\nSIZE 28672000\\nENHANCEDSTATUSCODES\\n8BITMIME\\nSTARTTLS\\nOK')\n",
      "(220, b'2.0.0 Ready to start TLS')\n",
      "Subject: Dinner\n",
      "Dear Josh,\n",
      "\n",
      "Sunday: Bacon wrapped steak, Cook Time:  nan\n",
      "\n",
      "Monday: Pizza, Cook Time:  nan\n",
      "\n",
      "Tuesday: banana soup, Cook Time:  nan\n",
      "\n",
      "Wendsday: chicken sandwhich, Cook Time:  nan\n",
      "\n",
      "Your shopping list:\n",
      "Fruits: apple, grapes, banana\n",
      "Vegetables: peas\n",
      "Frozen Foods: \n",
      "Meats: chicken, steak\n",
      "Cheese: chedder\n",
      "Others: \n",
      "\n"
     ]
    },
    {
     "data": {
      "text/plain": [
       "(221, b'2.0.0 fed1rmimpo305.cox.net cox closing connection')"
      ]
     },
     "execution_count": 103,
     "metadata": {},
     "output_type": "execute_result"
    }
   ],
   "source": [
    "df = pd.read_excel(\"recipes.xlsx\")\n",
    "\n",
    "recipes = {}\n",
    "## create list\n",
    "## onFriday should b 5 if it cannot b eaten on friday\n",
    "for index, row in df.iterrows():\n",
    "    recipes[row['dish']] = [row['dish'], row['type'], row['onFriday'], row['time'], row['ingredients']]\n",
    "\n",
    "food = []\n",
    "ingredients = []\n",
    "for i in range(4):\n",
    "    dish, info  = random.choice(list(recipes.items()))\n",
    "    if len(food) !=0:\n",
    "        while food[-1][1] != info[1] or i%7 == int(info[2]):\n",
    "            dish, info  = random.choice(list(recipes.items()))\n",
    "    food.append(info)\n",
    "    items = info[-1].split(\", \")\n",
    "\n",
    "    ingredients += items\n",
    "    del recipes[dish]\n",
    "    \n",
    "print('past1')\n",
    "ingredients = list(set(ingredients))\n",
    "d = pd.read_excel(\"food.xlsx\")\n",
    "d['item'] = d['item'].astype('str') \n",
    "d['type'] = d['type'].astype('str') \n",
    "items = []\n",
    "for i in ingredients:\n",
    "    items.append([d.loc[d.item == i,'type'].to_string()[5:],i])\n",
    "#items.sort(key=lambda x: x[0])\n",
    "## Dividing items up \n",
    "## add fish, spices, \n",
    "fruits = [x[1] for x in items if (x[0] == 'fruit')]\n",
    "veggie = [x[1] for x in items if (x[0] == 'vegetable')]\n",
    "frozen = [x[1] for x in items if (x[0] == 'frozen') ]\n",
    "meats = [x[1] for x in items if (x[0] == 'meat')]\n",
    "breads = [x[1] for x in items if (x[0] == 'bread') ]\n",
    "other = [x[1] for x in items if (x[0] == 'other')]\n",
    "cheese = [x[1] for x in items if (x[0] == 'cheese')]\n",
    "fish = [x[1] for x in items if (x[0] == 'fish')]\n",
    "spice = [x[1] for x in items if (x[0] == 'spice')]\n",
    "\n",
    "## Send the email process\n",
    "smtpObj = smtplib.SMTP('smtp.cox.net', 587)\n",
    "smtpObj.ehlo()\n",
    "smtpObj.starttls()\n",
    "\n",
    "smtpObj.login('joshcabral@cox.net', 'abbey2012')\n",
    "\n",
    "# Email string\n",
    "\n",
    "emailString = \"Subject: Dinner\\n\"\n",
    "emailString += \"Dear Josh,\\n\\n\"\n",
    "for i in range(4):\n",
    "    emailString += days[i%7]+ \": \"+food[i][0]+ \", Cook Time:  \"+str(food[i][3]) +'\\n'+'\\n'\n",
    "\n",
    "emailString +=\"Your shopping list:\\n\" \n",
    "\n",
    "if len(fruits)!= 0:\n",
    "    emailString +=\"Fruits: \"+', '.join(fruits) +'\\n'\n",
    "if len(veggie)!= 0:\n",
    "    emailString +=\"Vegetables: \"+', '.join(veggie)+'\\n'\n",
    "if len(frozen)!= 0:\n",
    "    emailString +=\"Frozen Foods: \"+', '.join(frozen)+'\\n'\n",
    "if len(meats)!= 0:\n",
    "    emailString +=\"Meats: \"+', '.join(meats)+'\\n'\n",
    "if len(fish)!= 0:\n",
    "    emailString +=\"Fish: \"+', '.join(fish)+'\\n'\n",
    "if len(spice)!= 0:\n",
    "    emailString +=\"Spices: \"+', '.join(spice)+'\\n'\n",
    "if len(cheese)!= 0:\n",
    "    emailString +=\"Cheese: \"+', '.join(cheese)+'\\n'\n",
    "if len(other)!= 0:\n",
    "    emailString +=\"Others: \"+', '.join(other)+'\\n'\n",
    "\n",
    "print(emailString)\n",
    "\n",
    "smtpObj.sendmail('joshcabral@cox.net', 'joshcabral77@gmail.com', emailString)\n",
    "\n",
    "smtpObj.quit()"
   ]
  },
  {
   "cell_type": "code",
   "execution_count": 55,
   "metadata": {},
   "outputs": [
    {
     "data": {
      "text/plain": [
       "1    fruit\n",
       "Name: type, dtype: object"
      ]
     },
     "execution_count": 55,
     "metadata": {},
     "output_type": "execute_result"
    }
   ],
   "source": [
    "food = pd.read_excel(\"food.xlsx\")\n",
    "i = 'apple'\n",
    "food.iat[0,1]\n",
    "#food\n",
    "food.loc[food.item == i,'type']\n",
    "#food.item == i\n",
    "item =food.loc[food.item == i,'type']\n",
    "item "
   ]
  },
  {
   "cell_type": "code",
   "execution_count": 49,
   "metadata": {},
   "outputs": [
    {
     "data": {
      "text/plain": [
       "['banana soup', nan, 0, nan, 'banana, grapes, apples']"
      ]
     },
     "execution_count": 49,
     "metadata": {},
     "output_type": "execute_result"
    }
   ],
   "source": [
    "df = pd.read_excel(\"recipes.xlsx\")\n",
    "\n",
    "recipes = {}\n",
    "## create list\n",
    "\n",
    "## onFriday should b 5 if it cannot b eaten on friday\n",
    "for index, row in df.iterrows():\n",
    "    recipes[row['dish']] = [row['dish'], row['type'], row['onFriday'], row['time'], row['ingredients']]\n",
    "\n",
    "dish, info  = random.choice(list(recipes.items()))\n",
    "info "
   ]
  },
  {
   "cell_type": "code",
   "execution_count": 54,
   "metadata": {},
   "outputs": [
    {
     "data": {
      "text/plain": [
       "[1, 1]"
      ]
     },
     "execution_count": 54,
     "metadata": {},
     "output_type": "execute_result"
    }
   ],
   "source": [
    "thing = [[1,1],[1,2],[1,3]]\n",
    "[x[0] for x in thing if x[1] != 2]"
   ]
  },
  {
   "cell_type": "code",
   "execution_count": 99,
   "metadata": {},
   "outputs": [
    {
     "name": "stdout",
     "output_type": "stream",
     "text": [
      "starting\n",
      "past0\n",
      "past1\n",
      "[[2    fruit\n",
      "Name: type, dtype: object, 'grapes'], [4    meat\n",
      "Name: type, dtype: object, 'chicken'], [Series([], Name: type, dtype: object), 'apples'], [12    bread\n",
      "Name: type, dtype: object, 'buns'], [0    fruit\n",
      "Name: type, dtype: object, 'banana'], [11    other\n",
      "Name: type, dtype: object, 'soap'], [10    frozen\n",
      "Name: type, dtype: object, 'ice cream'], [3    meat\n",
      "Name: type, dtype: object, 'steak'], [8    vegetable\n",
      "Name: type, dtype: object, 'peas'], [7    cheese\n",
      "Name: type, dtype: object, 'chedder']]\n"
     ]
    }
   ],
   "source": [
    "import pandas as pd\n",
    "import smtplib\n",
    "import random\n",
    "\n",
    "days = {0:\"Sunday\", 1:\"Monday\", 2:\"Tuesday\", 3:\"Wendsday\", 4:\"Thursday\", 5:\"Friday\", 6:\"Saturday\"}\n",
    "\n",
    "print(\"starting\")\n",
    "df = pd.read_excel(\"recipes.xlsx\")\n",
    "\n",
    "recipes = {}\n",
    "## create list\n",
    "## onFriday should b 5 if it cannot b eaten on friday\n",
    "for index, row in df.iterrows():\n",
    "    recipes[row['dish']] = [row['dish'], row['type'], row['onFriday'], row['time'], row['ingredients']]\n",
    "print('past0')\n",
    "food = []\n",
    "ingredients = []\n",
    "for i in range(4):\n",
    "    dish, info  = random.choice(list(recipes.items()))\n",
    "    #if len(food) !=0:\n",
    "    '''\n",
    "        while food[-1][1] != info[1] or i%7 == int(info[2]):\n",
    "            dish, info  = random.choice(list(recipes.items()))\n",
    "    '''\n",
    "    food.append(info)\n",
    "    items = info[-1].split(\", \")\n",
    "\n",
    "    ingredients += items\n",
    "    del recipes[dish]\n",
    "\n",
    "print('past1')\n",
    "ingredients = list(set(ingredients))\n",
    "d = pd.read_excel(\"food.xlsx\")\n",
    "#d['item'] = d['item'].astype('str') \n",
    "#d['type'] = d['type'].astype('str') \n",
    "items = []\n",
    "for i in ingredients:\n",
    "    items.append([d.loc[d.item == i,'type'].to_string()[5:],i])\n",
    "#items.sort(key=lambda x: x[0])\n",
    "## Dividing items up \n",
    "## add fish, spices, \n",
    "\n",
    "print(items)"
   ]
  },
  {
   "cell_type": "code",
   "execution_count": null,
   "metadata": {
    "collapsed": true
   },
   "outputs": [],
   "source": []
  }
 ],
 "metadata": {
  "kernelspec": {
   "display_name": "Python 3",
   "language": "python",
   "name": "python3"
  },
  "language_info": {
   "codemirror_mode": {
    "name": "ipython",
    "version": 3
   },
   "file_extension": ".py",
   "mimetype": "text/x-python",
   "name": "python",
   "nbconvert_exporter": "python",
   "pygments_lexer": "ipython3",
   "version": "3.6.3"
  }
 },
 "nbformat": 4,
 "nbformat_minor": 2
}
